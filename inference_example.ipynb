{
  "nbformat": 4,
  "nbformat_minor": 0,
  "metadata": {
    "colab": {
      "provenance": [],
      "gpuType": "T4"
    },
    "kernelspec": {
      "name": "python3",
      "display_name": "Python 3"
    },
    "language_info": {
      "name": "python"
    },
    "accelerator": "GPU"
  },
  "cells": [
    {
      "cell_type": "markdown",
      "source": [
        "# Example Evaluation (Infernce) of TGT on the PCQM4Mv2 Dataset"
      ],
      "metadata": {
        "id": "qrFgAbcD3B5x"
      }
    },
    {
      "cell_type": "markdown",
      "source": [
        "## Clone the repositiory"
      ],
      "metadata": {
        "id": "nmicdlIt9Pds"
      }
    },
    {
      "cell_type": "code",
      "execution_count": null,
      "metadata": {
        "id": "apWACmEsxGeS"
      },
      "outputs": [],
      "source": [
        "!git clone https://github.com/shamim-hussain/tgt.git\n",
        "%cd tgt"
      ]
    },
    {
      "cell_type": "markdown",
      "source": [
        "## Download the date\n",
        "(alternatively you can download it manually)"
      ],
      "metadata": {
        "id": "4qBw91P69TuS"
      }
    },
    {
      "cell_type": "code",
      "source": [
        "!bash download_data.sh"
      ],
      "metadata": {
        "id": "KWhrDHfzy5HB"
      },
      "execution_count": null,
      "outputs": []
    },
    {
      "cell_type": "markdown",
      "source": [
        "## Download the model weights\n",
        "(alternatively download them manually and put them in the models directory keeping the directory structure)\n",
        "\n",
        "Make sure huggingface_hub installed or install it with\n",
        "\n",
        "\n",
        "```\n",
        "pip install huggingface_hub\n",
        "```\n",
        "\n"
      ],
      "metadata": {
        "id": "6aqf-OiD9cf9"
      }
    },
    {
      "cell_type": "code",
      "source": [
        "!huggingface-cli download --local-dir . --local-dir-use-symlinks False --include 'models/pcqm/tgt_at_200m/*' -- shamim-hussain/tgt"
      ],
      "metadata": {
        "id": "RhiYtr6kzNid"
      },
      "execution_count": null,
      "outputs": []
    },
    {
      "cell_type": "markdown",
      "source": [
        "## Make distance predictions on the validation set"
      ],
      "metadata": {
        "id": "Kkz8qhtv97Jb"
      }
    },
    {
      "cell_type": "code",
      "source": [
        "!python make_predictions.py configs/pcqm/tgt_at_200m/dist_pred/tgt_at_dp_rdkit.yaml 'predict_on: [\"val\"]'"
      ],
      "metadata": {
        "id": "_LSMCO5tz-fT"
      },
      "execution_count": null,
      "outputs": []
    },
    {
      "cell_type": "markdown",
      "source": [
        "## Predict and evaluate the energy gaps on the validaiton set"
      ],
      "metadata": {
        "id": "fCHoERpC9_D0"
      }
    },
    {
      "cell_type": "code",
      "source": [
        "!python do_evaluations.py configs/pcqm/tgt_at_200m/gap_pred/tgt_at_tp_rdkit.yaml 'predict_on: [\"val\"]'"
      ],
      "metadata": {
        "id": "VRMxXuj1-EJY"
      },
      "execution_count": null,
      "outputs": []
    }
  ]
}